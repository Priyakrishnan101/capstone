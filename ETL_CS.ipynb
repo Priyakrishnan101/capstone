{
 "cells": [
  {
   "cell_type": "code",
   "execution_count": 2,
   "metadata": {},
   "outputs": [],
   "source": [
    "import findspark\n",
    "findspark.init()\n",
    "\n",
    "import pyspark\n",
    "\n",
    "from secrets1 import username\n",
    "from secrets1 import password\n",
    "\n",
    "from pyspark.sql.functions import*\n",
    "from pyspark.sql import SparkSession\n",
    "import pandas as pd\n",
    "import json\n",
    "import re\n",
    "from datetime import datetime\n",
    "import mysql.connector as mariadb\n",
    "import pyinputplus as pyinput\n",
    "%matplotlib inline\n",
    "\n",
    "import matplotlib as mpl\n",
    "import matplotlib.pyplot as plt\n",
    "import numpy as np\n"
   ]
  },
  {
   "attachments": {},
   "cell_type": "markdown",
   "metadata": {},
   "source": [
    "Create spark session"
   ]
  },
  {
   "cell_type": "code",
   "execution_count": 3,
   "metadata": {},
   "outputs": [],
   "source": [
    "spark = SparkSession.builder.master(\"local[*]\").appName(\"Capstone app\").getOrCreate()"
   ]
  },
  {
   "attachments": {},
   "cell_type": "markdown",
   "metadata": {},
   "source": [
    "Extract data from JSON to DataFrame"
   ]
  },
  {
   "cell_type": "code",
   "execution_count": 8,
   "metadata": {},
   "outputs": [],
   "source": [
    "def branch_extract():\n",
    "    print(\"Extraxting branch data...\")\n",
    "    branch_df = spark.read.json(\"json_files/cdw_sapp_branch.json\")\n",
    "    return branch_df\n",
    "def customer_extract():\n",
    "    print(\"Extraxting customer data...\")\n",
    "    customer_df = spark.read.json(\"json_files/cdw_sapp_custmer.json\")\n",
    "    return customer_df\n",
    "def credit_extract():\n",
    "    print(\"Extraxting credit data...\")\n",
    "    credit_df = spark.read.json(\"json_files/cdw_sapp_credit.json\")\n",
    "    return credit_df\n",
    "def credit_pandas_extract():\n",
    "    print(\"Extraxting credit data...\")\n",
    "    #Read credit_json file into pandas dataframe\n",
    "    credit_df_pandas = pd.read_json(\"json_files/cdw_sapp_credit.json\", lines=True)\n",
    "    return credit_df_pandas"
   ]
  },
  {
   "attachments": {},
   "cell_type": "markdown",
   "metadata": {},
   "source": [
    "Transformation of customer_df according to mapping document"
   ]
  },
  {
   "cell_type": "code",
   "execution_count": 9,
   "metadata": {},
   "outputs": [],
   "source": [
    "def customer_transform(customer_df):\n",
    "    print(\"Transformation of customer_df according to mapping document...\")\n",
    "    #convert First Name to Title case, Middle name in lower case, Last name in Title case\n",
    "    customer_transform_df = customer_df.withColumn(\"FIRST_NAME\", initcap(customer_df[\"FIRST_NAME\"]))\\\n",
    "                             .withColumn(\"MIDDLE_NAME\", lower(customer_df[\"MIDDLE_NAME\"]))  \\\n",
    "                             .withColumn(\"LAST_NAME\", initcap(customer_df[\"LAST_NAME\"]))  \n",
    "                             \n",
    "\n",
    "    #Concatenate apartment no and street name of customer's residence with comma as a separator\n",
    "    customer_transform_df = customer_transform_df.withColumn(\"FULL_STREET_ADDRESS\", \\\n",
    "                            concat_ws(\",\",customer_df[\"APT_NO\"],customer_df[\"STREET_NAME\"]))\n",
    "\n",
    "    #Drop column APT_NO and STREET_NAME\n",
    "    customer_transform_df = customer_transform_df.drop(\"APT_NO\",\"STREET_NAME\")\n",
    "\n",
    "    #change the data type of SSN,CUST_ZIP,CUST_PHONE,LAST_UPDATED\n",
    "    customer_transform_df = customer_transform_df \\\n",
    "      .withColumn(\"SSN\" ,customer_df[\"SSN\"].cast('int'))   \\\n",
    "      .withColumn(\"CUST_ZIP\",customer_df[\"CUST_ZIP\"].cast('int'))   \\\n",
    "      .withColumn(\"CUST_PHONE\",customer_df[\"CUST_PHONE\"].cast('string'))   \\\n",
    "      .withColumn(\"LAST_UPDATED\",customer_df[\"LAST_UPDATED\"].cast('timestamp')) \n",
    "\n",
    "    #change the format of the phone number\n",
    "    customer_transform_df = customer_transform_df.withColumn(\"CUST_PHONE\", regexp_replace(col(\"CUST_PHONE\") ,\\\n",
    "                             \"(\\\\d{3})(\\\\d{4})\" , \"(155)$1-$2\" ) )\n",
    "    return customer_transform_df\n"
   ]
  },
  {
   "attachments": {},
   "cell_type": "markdown",
   "metadata": {},
   "source": [
    "Transformation of branch_df according to mapping document"
   ]
  },
  {
   "cell_type": "code",
   "execution_count": 10,
   "metadata": {},
   "outputs": [],
   "source": [
    "def branch_transform(branch_df):\n",
    "   print(\"Transformation of branch data according to mapping document...\")\n",
    "   #change the data type of BRANCH_CODE,BRANCH_ZIP,LAST_UPDATED\n",
    "   branch_transform_df = branch_df \\\n",
    "      .withColumn(\"BRANCH_CODE\" ,branch_df[\"BRANCH_CODE\"].cast('int'))   \\\n",
    "      .withColumn(\"BRANCH_ZIP\",branch_df[\"BRANCH_ZIP\"].cast('int'))    \\\n",
    "      .withColumn(\"LAST_UPDATED\",branch_df[\"LAST_UPDATED\"].cast('timestamp')) \n",
    "\n",
    "   #change the format of the phone number\n",
    "   branch_transform_df = branch_transform_df.withColumn(\"BRANCH_PHONE\", regexp_replace(col(\"BRANCH_PHONE\") ,\\\n",
    "                         \"(\\\\d{3})(\\\\d{3})(\\\\d{4})\" , \"($1)$2-$3\" ) )\n",
    "\n",
    "   # If source value is null load default value (99999)\n",
    "   branch_transform_df = branch_transform_df.na.fill(value=99999,subset=[\"BRANCH_ZIP\"])\n",
    "   return branch_transform_df\n"
   ]
  },
  {
   "cell_type": "code",
   "execution_count": 11,
   "metadata": {},
   "outputs": [],
   "source": [
    "def branch_transform1(branch_df):\n",
    "    print(\"Transformation of branch data according to mapping document...\")\n",
    "    branch_df.createOrReplaceTempView(\"branchview\")\n",
    "    branch_transform_df = spark.sql(\"SELECT CAST(BRANCH_CODE AS INT), BRANCH_NAME, BRANCH_STREET, BRANCH_CITY, \\\n",
    "                          BRANCH_STATE, CAST(IF(BRANCH_ZIP IS NULL, '99999', BRANCH_ZIP) AS INT) AS BRANCH_ZIP, \\\n",
    "                          CONCAT('(', SUBSTR(BRANCH_PHONE, 1, 3), ')', SUBSTR(BRANCH_PHONE, 4,3), '-', SUBSTR(BRANCH_PHONE, 7, 4)) AS BRANCH_PHONE, \\\n",
    "                          CAST(LAST_UPDATED AS TIMESTAMP) FROM BRANCHVIEW\")\n",
    "    return branch_transform_df\n"
   ]
  },
  {
   "attachments": {},
   "cell_type": "markdown",
   "metadata": {},
   "source": [
    "Transformation of credit_df according to mapping document - pandas"
   ]
  },
  {
   "cell_type": "code",
   "execution_count": 12,
   "metadata": {},
   "outputs": [],
   "source": [
    "def credit_transform(credit_df_pandas):\n",
    "    print(\"Transformation of credit data according to mapping document...\")\n",
    "    #change the data type of DAY,MONTH,YEAR\n",
    "    credit_transform_df_pandas = credit_df_pandas.astype({\"DAY\":'str',\"MONTH\":'str',\"YEAR\":'str',\"CREDIT_CARD_NO\":'str'})\n",
    "    credit_transform_df_pandas['DAY'] = credit_transform_df_pandas[\"DAY\"].str.pad(2,side='left',fillchar='0')\n",
    "    credit_transform_df_pandas['MONTH'] = credit_transform_df_pandas[\"MONTH\"].str.pad(2,side='left',fillchar='0')\n",
    "    \n",
    "    #Converting DAY, MONTH, YEAR into a TIMEID (YYYYMMDD)\n",
    "    credit_transform_df_pandas['TIMEID'] = credit_transform_df_pandas[\"YEAR\"] + credit_transform_df_pandas[\"MONTH\"] \\\n",
    "                                            + credit_transform_df_pandas[\"DAY\"]\n",
    "    \n",
    "    #Drop column APT_NO and STREET_NAME\n",
    "    credit_transform_df_pandas.drop([\"DAY\",\"MONTH\",\"YEAR\"],axis = 1,inplace = True)\n",
    "    \n",
    "    #Rename column CREDIT_CARD_NO to CUST_CC_NO \n",
    "    credit_transform_df_pandas.rename(columns = {\"CREDIT_CARD_NO\":\"CUST_CC_NO\"}, inplace = True)\n",
    "\n",
    "    #converting pandas Dataframe to pyspark Dataframe\n",
    "    credit_transform_df = spark.createDataFrame(credit_transform_df_pandas)\n",
    "\n",
    "    #change the data type of BRANCH_CODE,CUST_SSN,TRANSACTION_ID\n",
    "    credit_transform_df = credit_transform_df \\\n",
    "    .withColumn(\"BRANCH_CODE\",credit_transform_df[\"BRANCH_CODE\"].cast('int'))   \\\n",
    "    .withColumn(\"CUST_SSN\",credit_transform_df[\"CUST_SSN\"].cast('int'))   \\\n",
    "    .withColumn(\"TRANSACTION_ID\",credit_transform_df[\"TRANSACTION_ID\"].cast('int')) \n",
    "\n",
    "    return credit_transform_df\n"
   ]
  },
  {
   "attachments": {},
   "cell_type": "markdown",
   "metadata": {},
   "source": [
    "Data loading into Database"
   ]
  },
  {
   "cell_type": "code",
   "execution_count": 13,
   "metadata": {},
   "outputs": [],
   "source": [
    "def branch_load(branch_transform_df):\n",
    "       print(\"Loading transformed branch data into Database...\")\n",
    "       branch_transform_df.write.format(\"jdbc\") \\\n",
    "       .mode(\"append\") \\\n",
    "       .option(\"url\", \"jdbc:mysql://localhost:3306/creditcard_capstone\") \\\n",
    "       .option(\"createTableColumnTypes\", \"BRANCH_NAME VARCHAR(30), BRANCH_CITY VARCHAR(30),\\\n",
    "              BRANCH_STREET VARCHAR(30), BRANCH_STATE VARCHAR(30) ,BRANCH_PHONE VARCHAR(14) \")  \\\n",
    "       .option(\"dbtable\", \"creditcard_capstone.CDW_SAPP_BRANCH\") \\\n",
    "       .option(\"user\", username) \\\n",
    "       .option(\"password\", password) \\\n",
    "       .option(\"characterEncoding\",\"UTF-8\") \\\n",
    "       .option(\"useUnicode\", \"true\") \\\n",
    "       .save()\n",
    "\n",
    "def credit_load(credit_transform_df):\n",
    "       print(\"Loading transformed credit data into Database...\")\n",
    "       credit_transform_df.write.format(\"jdbc\") \\\n",
    "        .mode(\"append\") \\\n",
    "        .option(\"url\", \"jdbc:mysql://localhost:3306/creditcard_capstone\") \\\n",
    "        .option(\"createTableColumnTypes\", \"CUST_CC_NO VARCHAR(30), TRANSACTION_TYPE VARCHAR(30),\\\n",
    "               TIMEID VARCHAR(30)\")  \\\n",
    "        .option(\"dbtable\", \"creditcard_capstone.CDW_SAPP_CREDIT_CARD\") \\\n",
    "        .option(\"user\", username) \\\n",
    "        .option(\"password\", password) \\\n",
    "        .option(\"characterEncoding\",\"UTF-8\") \\\n",
    "        .option(\"useUnicode\", \"true\") \\\n",
    "        .save()\n",
    "\n",
    "def customer_load(customer_transform_df):\n",
    "       print(\"Loading transformed customer data into Database...\")\n",
    "       customer_transform_df.write.format(\"jdbc\") \\\n",
    "        .mode(\"append\") \\\n",
    "        .option(\"url\", \"jdbc:mysql://localhost:3306/creditcard_capstone\") \\\n",
    "        .option(\"createTableColumnTypes\", \"FIRST_NAME VARCHAR(30), MIDDLE_NAME VARCHAR(30),\\\n",
    "               LAST_NAME VARCHAR(30),CREDIT_CARD_NO VARCHAR(30),FULL_STREET_ADDRESS VARCHAR(50), \\\n",
    "               CUST_CITY VARCHAR(30),CUST_STATE VARCHAR(30),CUST_COUNTRY VARCHAR(30),  \\\n",
    "               CUST_PHONE VARCHAR(30),CUST_EMAIL VARCHAR(30)\")  \\\n",
    "        .option(\"dbtable\", \"creditcard_capstone.CDW_SAPP_CUSTOMER\") \\\n",
    "        .option(\"user\", username) \\\n",
    "        .option(\"password\", password) \\\n",
    "        .option(\"characterEncoding\",\"UTF-8\") \\\n",
    "        .option(\"useUnicode\", \"true\") \\\n",
    "        .save()"
   ]
  },
  {
   "cell_type": "code",
   "execution_count": 14,
   "metadata": {},
   "outputs": [
    {
     "name": "stdout",
     "output_type": "stream",
     "text": [
      "ETL Job Started\n",
      "Extract phase Started\n",
      "Extraxting customer data...\n",
      "Extraxting branch data...\n",
      "Extraxting credit data...\n",
      "Extract phase Ended\n",
      "Transform phase Started\n",
      "Transformation of customer_df according to mapping document...\n",
      "Transformation of branch data according to mapping document...\n",
      "Transformation of credit data according to mapping document...\n"
     ]
    },
    {
     "name": "stderr",
     "output_type": "stream",
     "text": [
      "C:\\Spark\\python\\pyspark\\sql\\pandas\\conversion.py:371: FutureWarning: iteritems is deprecated and will be removed in a future version. Use .items instead.\n",
      "  for column, series in pdf.iteritems():\n"
     ]
    },
    {
     "name": "stdout",
     "output_type": "stream",
     "text": [
      "Transform phase Ended\n",
      "Load phase Started\n",
      "Loading transformed customer data into Database...\n",
      "Loading transformed branch data into Database...\n",
      "Loading transformed credit data into Database...\n",
      "Load phase Ended\n",
      "ETL Job Ended\n"
     ]
    }
   ],
   "source": [
    "# Log that you have started the ETL process\n",
    "print(\"ETL Job Started\")\n",
    "\n",
    "# Log that you have started the Extract step\n",
    "print(\"Extract phase Started\")\n",
    "\n",
    "# Call the Extract function\n",
    "extracted_customer_data = customer_extract()\n",
    "extracted_branch_data = branch_extract()\n",
    "extracted_credit_data = credit_pandas_extract()\n",
    "\n",
    "# Log that you have completed the Extract step\n",
    "print(\"Extract phase Ended\")\n",
    "\n",
    "# Log that you have started the Transform step\n",
    "print(\"Transform phase Started\")\n",
    "\n",
    "# Call the Transform function\n",
    "customer_transformed_data = customer_transform(extracted_customer_data)\n",
    "branch_transformed_data = branch_transform(extracted_branch_data)\n",
    "credit_transformed_data = credit_transform(extracted_credit_data)\n",
    "\n",
    "# Log that you have completed the Transform step\n",
    "print(\"Transform phase Ended\")\n",
    "\n",
    "# Log that you have started the Load step\n",
    "print(\"Load phase Started\")\n",
    "\n",
    "# Call the Load function\n",
    "customer_load(customer_transformed_data)\n",
    "branch_load(branch_transformed_data)\n",
    "credit_load(credit_transformed_data)\n",
    "\n",
    "\n",
    "# Log that you have completed the Load step\n",
    "print(\"Load phase Ended\")\n",
    "\n",
    "# Log that you have completed the ETL process\n",
    "print(\"ETL Job Ended\")"
   ]
  },
  {
   "attachments": {},
   "cell_type": "markdown",
   "metadata": {},
   "source": [
    "2.1 Transaction Details Module\n"
   ]
  },
  {
   "cell_type": "code",
   "execution_count": 4,
   "metadata": {},
   "outputs": [],
   "source": [
    "def load_from_db():\n",
    "    branch_df=spark.read.format(\"jdbc\").options(driver=\"com.mysql.cj.jdbc.Driver\",\\\n",
    "                                     user=username,\\\n",
    "                                     password=password,\\\n",
    "                                     url=\"jdbc:mysql://localhost:3306/companyabc_db\",\\\n",
    "                                     dbtable=\"creditcard_capstone.CDW_SAPP_BRANCH\").load()\n",
    "\n",
    "    credit_df=spark.read.format(\"jdbc\").options(driver=\"com.mysql.cj.jdbc.Driver\",\\\n",
    "                                     user=username,\\\n",
    "                                     password=password,\\\n",
    "                                     url=\"jdbc:mysql://localhost:3306/companyabc_db\",\\\n",
    "                                     dbtable=\"creditcard_capstone.CDW_SAPP_CREDIT_CARD\").load()\n",
    "\n",
    "    customer_df=spark.read.format(\"jdbc\").options(driver=\"com.mysql.cj.jdbc.Driver\",\\\n",
    "                                     user=username,\\\n",
    "                                     password=password,\\\n",
    "                                     url=\"jdbc:mysql://localhost:3306/companyabc_db\",\\\n",
    "                                     dbtable=\"creditcard_capstone.CDW_SAPP_CUSTOMER\").load()\n",
    "    return(branch_df,credit_df,customer_df)"
   ]
  },
  {
   "cell_type": "code",
   "execution_count": null,
   "metadata": {},
   "outputs": [],
   "source": [
    "customer_df.createOrReplaceTempView(\"customerview\")\n",
    "branch_df.createOrReplaceTempView(\"branchview\")\n",
    "credit_df.createOrReplaceTempView(\"creditview\")"
   ]
  },
  {
   "cell_type": "code",
   "execution_count": 51,
   "metadata": {},
   "outputs": [],
   "source": [
    "#Validation\n",
    "\n",
    "def common_validator(display_text_user, validator_method):\n",
    "    is_valid_input = True\n",
    "    while is_valid_input:\n",
    "        user_input_value = input(display_text_user)\n",
    "        is_valid_input = validator_method(user_input_value)\n",
    "        if is_valid_input:\n",
    "            return user_input_value\n",
    "        else:\n",
    "            print('Invalid input')\n",
    "            is_valid_input = True\n",
    "\n",
    "def tr_type_validator(display_text_user, validator_method,validator_list):\n",
    "    is_valid_input = True\n",
    "    while is_valid_input:\n",
    "        user_input_value = input(display_text_user).title()\n",
    "        is_valid_input = validator_method(user_input_value,validator_list)\n",
    "        if is_valid_input:\n",
    "            return user_input_value\n",
    "        else:\n",
    "            print('Invalid input')\n",
    "            is_valid_input = True\n",
    "\n",
    "def state_validator(display_text_user, validator_method,validator_list):\n",
    "    is_valid_input = True\n",
    "    while is_valid_input:\n",
    "        user_input_value = input(display_text_user).upper()\n",
    "        is_valid_input = validator_method(user_input_value,validator_list)\n",
    "        if is_valid_input:\n",
    "            return user_input_value\n",
    "        else:\n",
    "            print('Invalid input')\n",
    "            is_valid_input = True\n",
    "\n",
    "def validate_zip_code(zip_code):\n",
    "    pattern = r'^\\d{5}'\n",
    "    return bool(re.match(pattern, str(zip_code)))\n",
    "\n",
    "def validate_month(month):\n",
    "    return True if month.isnumeric() and int(month) in list(range(1,13)) else False\n",
    "    #return True if month.isnumeric() and month in range(1,13) else False\n",
    "\n",
    "def validate_year(year):\n",
    "    return True if year.isnumeric() and int(year)==2018 else False\n",
    "\n",
    "def validate_cc_no(cc_number):\n",
    "    return True if cc_number.isnumeric() and len(cc_number) == 16 else False\n",
    "\n",
    "def validate_ph_no(ph_no):\n",
    "    return True if ph_no.isnumeric() and len(ph_no) == 10 else False\n",
    "\n",
    "def validate_transaction_type(tr_type,tr_type_list):\n",
    "    return True if tr_type.isalpha() and tr_type in tr_type_list else False\n",
    "\n",
    "def validate_transaction_type(tr_type,tr_type_list):\n",
    "    return True if tr_type.isalpha() and tr_type in tr_type_list else False\n",
    "\n",
    "def validate_state(state_input,state_list):\n",
    "    return True if state_input.isalpha() and state_input in state_list else False"
   ]
  },
  {
   "cell_type": "code",
   "execution_count": 52,
   "metadata": {},
   "outputs": [
    {
     "name": "stdout",
     "output_type": "stream",
     "text": [
      "select * from creditview AS credit JOIN customerview         AS customer on customer.CREDIT_CARD_NO = credit.CUST_CC_NO WHERE         customer.CUST_ZIP = 39120 AND month(to_timestamp(TIMEID,'yyyyMMdd')) = '04'         AND YEAR(to_timestamp(TIMEID,'yyyyMMdd')) = '2018' order by day(credit.TIMEID) desc\n",
      "+--------------+----------------+---------+-----------+----------------+-----------------+--------+----------------+---------+-------------+--------------------+-------------+----------+--------+----------+---------+-------------------+-----------+---------+--------------------+\n",
      "|TRANSACTION_ID|      CUST_CC_NO| CUST_SSN|BRANCH_CODE|TRANSACTION_TYPE|TRANSACTION_VALUE|  TIMEID|  CREDIT_CARD_NO|CUST_CITY| CUST_COUNTRY|          CUST_EMAIL|   CUST_PHONE|CUST_STATE|CUST_ZIP|FIRST_NAME|LAST_NAME|       LAST_UPDATED|MIDDLE_NAME|      SSN| FULL_STREET_ADDRESS|\n",
      "+--------------+----------------+---------+-----------+----------------+-----------------+--------+----------------+---------+-------------+--------------------+-------------+----------+--------+----------+---------+-------------------+-----------+---------+--------------------+\n",
      "|         15811|4210653390959197|123457054|         54|             Gas|            45.72|20180413|4210653390959197|  Natchez|United States|ODickinson@exampl...|(155)123-6684|        MS|   39120|      Omer|Dickinson|2018-04-21 11:49:02|      lauri|123457054|    731,Cross Street|\n",
      "|         15808|4210653390959197|123457054|        118|         Grocery|            81.26|20180428|4210653390959197|  Natchez|United States|ODickinson@exampl...|(155)123-6684|        MS|   39120|      Omer|Dickinson|2018-04-21 11:49:02|      lauri|123457054|    731,Cross Street|\n",
      "|         15806|4210653390959197|123457054|        158|       Education|              7.7|20180423|4210653390959197|  Natchez|United States|ODickinson@exampl...|(155)123-6684|        MS|   39120|      Omer|Dickinson|2018-04-21 11:49:02|      lauri|123457054|    731,Cross Street|\n",
      "|          2220|4210653374740577|123459564|        144|            Test|            19.04|20180417|4210653374740577|  Natchez|United States|   KTodd@example.com|(155)123-8952|        MS|   39120|     Kraig|     Todd|2018-04-21 11:49:02|    dolores|123459564|     21,Durham Court|\n",
      "|          2195|4210653374740577|123459564|         85|      Healthcare|            16.03|20180418|4210653374740577|  Natchez|United States|   KTodd@example.com|(155)123-8952|        MS|   39120|     Kraig|     Todd|2018-04-21 11:49:02|    dolores|123459564|     21,Durham Court|\n",
      "|          2187|4210653374740577|123459564|         44|            Test|            60.52|20180407|4210653374740577|  Natchez|United States|   KTodd@example.com|(155)123-8952|        MS|   39120|     Kraig|     Todd|2018-04-21 11:49:02|    dolores|123459564|     21,Durham Court|\n",
      "|          2169|4210653374740577|123459564|        125|   Entertainment|             34.8|20180412|4210653374740577|  Natchez|United States|   KTodd@example.com|(155)123-8952|        MS|   39120|     Kraig|     Todd|2018-04-21 11:49:02|    dolores|123459564|     21,Durham Court|\n",
      "|          2166|4210653374740577|123459564|          8|            Test|            91.26|20180417|4210653374740577|  Natchez|United States|   KTodd@example.com|(155)123-8952|        MS|   39120|     Kraig|     Todd|2018-04-21 11:49:02|    dolores|123459564|     21,Durham Court|\n",
      "|         15862|4210653387378802|123457047|         93|           Bills|             78.2|20180405|4210653387378802|  Natchez|United States| JMacias@example.com|(155)124-0476|        MS|   39120|    Judson|   Macias|2018-04-21 11:49:02|      lauri|123457047|   801,Summit Avenue|\n",
      "|         15821|4210653387378802|123457047|         73|            Test|             8.19|20180401|4210653387378802|  Natchez|United States| JMacias@example.com|(155)124-0476|        MS|   39120|    Judson|   Macias|2018-04-21 11:49:02|      lauri|123457047|   801,Summit Avenue|\n",
      "|         20564|4210653310061055|123456100|        109|            Test|            40.55|20180417|4210653310061055|  Natchez|United States| AHooper@example.com|(155)123-7818|        MS|   39120|      Alec|   Hooper|2018-04-21 11:49:02|         wm|123456100|656,Main Street N...|\n",
      "|         20557|4210653310061055|123456100|         46|      Healthcare|            68.02|20180402|4210653310061055|  Natchez|United States| AHooper@example.com|(155)123-7818|        MS|   39120|      Alec|   Hooper|2018-04-21 11:49:02|         wm|123456100|656,Main Street N...|\n",
      "|         20552|4210653310061055|123456100|         28|      Healthcare|            27.08|20180428|4210653310061055|  Natchez|United States| AHooper@example.com|(155)123-7818|        MS|   39120|      Alec|   Hooper|2018-04-21 11:49:02|         wm|123456100|656,Main Street N...|\n",
      "|         20546|4210653310061055|123456100|        135|       Education|            57.61|20180422|4210653310061055|  Natchez|United States| AHooper@example.com|(155)123-7818|        MS|   39120|      Alec|   Hooper|2018-04-21 11:49:02|         wm|123456100|656,Main Street N...|\n",
      "|         20540|4210653310061055|123456100|        173|       Education|            89.63|20180406|4210653310061055|  Natchez|United States| AHooper@example.com|(155)123-7818|        MS|   39120|      Alec|   Hooper|2018-04-21 11:49:02|         wm|123456100|656,Main Street N...|\n",
      "|         12637|4210653359877473|123457519|          5|           Bills|            79.95|20180407|4210653359877473|  Natchez|United States| ICramer@example.com|(155)123-8679|        MS|   39120|    Isabel|   Cramer|2018-04-21 11:49:02|      james|123457519| 384,Sheffield Drive|\n",
      "|         12630|4210653359877473|123457519|         18|           Bills|            74.71|20180402|4210653359877473|  Natchez|United States| ICramer@example.com|(155)123-8679|        MS|   39120|    Isabel|   Cramer|2018-04-21 11:49:02|      james|123457519| 384,Sheffield Drive|\n",
      "|         15217|4210653396189363|123457139|        125|            Test|            85.59|20180408|4210653396189363|  Natchez|United States|   BWare@example.com|(155)124-2316|        MS|   39120|     Blair|     Ware|2018-04-21 11:49:02|     antone|123457139|   109,Linden Street|\n",
      "|         15201|4210653396189363|123457139|         21|      Healthcare|             59.5|20180426|4210653396189363|  Natchez|United States|   BWare@example.com|(155)124-2316|        MS|   39120|     Blair|     Ware|2018-04-21 11:49:02|     antone|123457139|   109,Linden Street|\n",
      "|         15188|4210653396189363|123457139|         18|           Bills|            22.05|20180410|4210653396189363|  Natchez|United States|   BWare@example.com|(155)124-2316|        MS|   39120|     Blair|     Ware|2018-04-21 11:49:02|     antone|123457139|   109,Linden Street|\n",
      "+--------------+----------------+---------+-----------+----------------+-----------------+--------+----------------+---------+-------------+--------------------+-------------+----------+--------+----------+---------+-------------------+-----------+---------+--------------------+\n",
      "only showing top 20 rows\n",
      "\n"
     ]
    }
   ],
   "source": [
    "#display the transactions made by customers living in agiven zip code for a given month and year. Order by d\n",
    "#descending order.\n",
    "\n",
    "zipcode_input = common_validator(\"Enter 5-digit zip_code: \", validate_zip_code)\n",
    "month_input = common_validator(\"Enter month(in digits): \", validate_month)\n",
    "year_input = common_validator(\"Enter year: \", validate_year)\n",
    "\n",
    "#add padding for the month variable\n",
    "month_input = month_input.rjust(2,'0')\n",
    "\n",
    "query = f\"select * from creditview AS credit JOIN customerview \\\n",
    "        AS customer on customer.CREDIT_CARD_NO = credit.CUST_CC_NO WHERE \\\n",
    "        customer.CUST_ZIP = {zipcode_input} AND month(to_timestamp(TIMEID,'yyyyMMdd')) = '{month_input}' \\\n",
    "        AND YEAR(to_timestamp(TIMEID,'yyyyMMdd')) = '{year_input}' order by day(credit.TIMEID) desc\"\n",
    "\n",
    "print(query)\n",
    "spark.sql(query).show()"
   ]
  },
  {
   "cell_type": "code",
   "execution_count": 18,
   "metadata": {},
   "outputs": [
    {
     "name": "stdout",
     "output_type": "stream",
     "text": [
      "SELECT count(TRANSACTION_ID), SUM(TRANSACTION_VALUE)              FROM creditview              WHERE TRANSACTION_TYPE = 'Healthcare'              GROUP BY TRANSACTION_TYPE\n",
      "+---------------------+----------------------+\n",
      "|count(TRANSACTION_ID)|sum(TRANSACTION_VALUE)|\n",
      "+---------------------+----------------------+\n",
      "|                 6723|     340476.1999999994|\n",
      "+---------------------+----------------------+\n",
      "\n"
     ]
    }
   ],
   "source": [
    "#display the number and total values of transactions for a given type.\n",
    "\n",
    "#get unique transaction type list\n",
    "tr_type_query = f\"select distinct(TRANSACTION_TYPE) from creditview\"\n",
    "tr_type_df= spark.sql(tr_type_query)\n",
    "tr_type_list = tr_type_df.select('TRANSACTION_TYPE').rdd.map(lambda row : row[0]).collect()\n",
    "\n",
    "tr_type_input = tr_type_validator(\"Enter Transaction Type: \", validate_transaction_type,tr_type_list)\n",
    "\n",
    "#query = f\"SELECT TRANSACTION_ID, SUM(TRANSACTION_VALUE) \\\n",
    "            #  FROM creditview \\\n",
    "            #  WHERE TRANSACTION_TYPE = '{tr_type}' \\\n",
    "            #  GROUP BY TRANSACTION_ID\"\n",
    "\n",
    "query = f\"SELECT count(TRANSACTION_ID), SUM(TRANSACTION_VALUE) \\\n",
    "             FROM creditview \\\n",
    "             WHERE TRANSACTION_TYPE = '{tr_type_input}' \\\n",
    "             GROUP BY TRANSACTION_TYPE\"\n",
    "print(query)\n",
    "spark.sql(query).show()\t"
   ]
  },
  {
   "cell_type": "code",
   "execution_count": 47,
   "metadata": {},
   "outputs": [
    {
     "name": "stdout",
     "output_type": "stream",
     "text": [
      "+-----------+---------------------+----------------------+\n",
      "|BRANCH_CODE|count(TRANSACTION_ID)|sum(TRANSACTION_VALUE)|\n",
      "+-----------+---------------------+----------------------+\n",
      "|          1|                  374|    18157.569999999992|\n",
      "|         20|                  381|    19350.830000000024|\n",
      "|        124|                  372|    18644.890000000003|\n",
      "+-----------+---------------------+----------------------+\n",
      "\n"
     ]
    }
   ],
   "source": [
    "#display the number and total values of transactions for branches in a given state\n",
    "\n",
    "#get state list\n",
    "state_query = f\"select distinct(CUST_STATE) from customerview\"\n",
    "state_df= spark.sql(state_query)\n",
    "state_list =state_df.select('CUST_STATE').rdd.map(lambda row : row[0]).collect()\n",
    "\n",
    "state_input = state_validator(\"Enter two letter state code: \", validate_state,state_list)\n",
    "\n",
    "# query = f\"SELECT branch_state,credit.TRANSACTION_ID, SUM(credit.TRANSACTION_VALUE) \\\n",
    "            #  FROM cdw_sapp_branch AS branch INNER JOIN cdw_sapp_credit_card AS credit \\\n",
    "            #  ON branch.BRANCH_CODE = credit.BRANCH_CODE WHERE branch_state= '{state}' \\\n",
    "            #  GROUP BY credit.TRANSACTION_ID GROUP BY branch.branch_code\"\n",
    "query= f\"SELECT branch.BRANCH_CODE,count(TRANSACTION_ID),sum(TRANSACTION_VALUE) FROM branchview \\\n",
    "         AS branch INNER JOIN creditview AS credit ON branch.BRANCH_CODE = credit.BRANCH_CODE \\\n",
    "         WHERE BRANCH_STATE= '{state_input}' group by branch.BRANCH_CODE\"\n",
    "\n",
    "spark.sql(query).show()\t"
   ]
  },
  {
   "attachments": {},
   "cell_type": "markdown",
   "metadata": {},
   "source": [
    "2.2 Customer Details Module\n"
   ]
  },
  {
   "cell_type": "code",
   "execution_count": 10,
   "metadata": {},
   "outputs": [
    {
     "name": "stdout",
     "output_type": "stream",
     "text": [
      "+----------------+---------+-------------+-------------------+-------------+----------+--------+----------+---------+-------------------+-----------+---------+--------------------+\n",
      "|  CREDIT_CARD_NO|CUST_CITY| CUST_COUNTRY|         CUST_EMAIL|   CUST_PHONE|CUST_STATE|CUST_ZIP|FIRST_NAME|LAST_NAME|       LAST_UPDATED|MIDDLE_NAME|      SSN| FULL_STREET_ADDRESS|\n",
      "+----------------+---------+-------------+-------------------+-------------+----------+--------+----------+---------+-------------------+-----------+---------+--------------------+\n",
      "|4210653310061055|  Natchez|United States|AHooper@example.com|(155)123-7818|        MS|   39120|      Alec|   Hooper|2018-04-21 11:49:02|         wm|123456100|656,Main Street N...|\n",
      "|4210653310061055|  Natchez|United States|AHooper@example.com|(155)123-7818|        MS|   39120|      Alec|   Hooper|2018-04-21 11:49:02|         wm|123456100|656,Main Street N...|\n",
      "+----------------+---------+-------------+-------------------+-------------+----------+--------+----------+---------+-------------------+-----------+---------+--------------------+\n",
      "\n"
     ]
    }
   ],
   "source": [
    "def account_details():\n",
    "    #check the existing account details of a customer.\n",
    "    cc_no_input = common_validator(\"Enter 16-digit credit card number: \", validate_cc_no)\n",
    "    phone_no_input = common_validator(\"Enter phone number: \", validate_ph_no)\n",
    "    \n",
    "    #phone_input = re.sub(r\"^(\\d+)-\", r\"(\\1)\",phone_input)\n",
    "    formatted_phone_input= f\"({phone_no_input[:3]}){phone_no_input[3:6]}-{phone_no_input[6:10]}\"\n",
    "    \n",
    "    query= f\"SELECT * from customerview where CREDIT_CARD_NO = '{cc_no_input}' and CUST_PHONE = '{formatted_phone_input}'\"\n",
    "    \n",
    "    spark.sql(query).show()\n",
    "    return cc_no_input,phone_no_input\n"
   ]
  },
  {
   "cell_type": "code",
   "execution_count": 50,
   "metadata": {},
   "outputs": [],
   "source": [
    "def db_connectivity(update_query_variable,user_update_input,credit_card_no_input,formatted_phone_input):\n",
    "    con=mariadb.connect(host=\"localhost\",user=username,password=password,database=\"creditcard_capstone\")\n",
    "    cur=con.cursor()\n",
    "    st=f\"update cdw_sapp_customer set {update_query_variable} = '{user_update_input}'\\\n",
    "         where CREDIT_CARD_NO = '{credit_card_no_input}' and CUST_PHONE = '{formatted_phone_input}' \"\n",
    "    cur.execute(st)\n",
    "    con.commit()\n",
    "    cur.close()\n",
    "    con.close()\n",
    "\n"
   ]
  },
  {
   "cell_type": "code",
   "execution_count": 52,
   "metadata": {},
   "outputs": [
    {
     "name": "stdout",
     "output_type": "stream",
     "text": [
      "+----------------+---------+-------------+-------------------+-------------+----------+--------+----------+---------+-------------------+-----------+---------+--------------------+\n",
      "|  CREDIT_CARD_NO|CUST_CITY| CUST_COUNTRY|         CUST_EMAIL|   CUST_PHONE|CUST_STATE|CUST_ZIP|FIRST_NAME|LAST_NAME|       LAST_UPDATED|MIDDLE_NAME|      SSN| FULL_STREET_ADDRESS|\n",
      "+----------------+---------+-------------+-------------------+-------------+----------+--------+----------+---------+-------------------+-----------+---------+--------------------+\n",
      "|4210653310061055|  Natchez|United States|AHooper@example.com|(155)123-7818|        MS|   39120|      Blec|   Hooper|2023-02-20 14:45:02|         wm|123456100|656,Main Street N...|\n",
      "+----------------+---------+-------------+-------------------+-------------+----------+--------+----------+---------+-------------------+-----------+---------+--------------------+\n",
      "\n",
      "Exiting\n"
     ]
    }
   ],
   "source": [
    "#modify the existing account details of a customer\n",
    "#check the existing account details of a customer.\n",
    "acc_no,phone_number = account_details()\n",
    "\n",
    "#Get user input\n",
    "\n",
    "display_text = ('''Enter choice from below to update:\n",
    "         1.Update Phone Number\n",
    "         2.Update First Name\n",
    "         3.Update Lirst Name\n",
    "         4.Update Middle Name\n",
    "         5.Update Email\n",
    "         6.Update Full_Street_Address\n",
    "         7.Update city\n",
    "         8.Update state\n",
    "         9.Update Contry\n",
    "         10.Update Zip_Code\n",
    "         11.Exit''')\n",
    "\n",
    "while True:\n",
    "    user_choice = input(display_text + \"Please enter your choice: \")\n",
    "    if user_choice.isspace():\n",
    "        print(\" Invalid user choice \")\n",
    "        user_choice = 0\n",
    "    elif user_choice not in range(1,13):\n",
    "        print(\"Invalid user choice \")\n",
    "        user_choice=0\n",
    "    elif int(user_choice) == 1:\n",
    "        update_query_variable = \"CUST_PHONE\"\n",
    "    elif int(user_choice) == 2:\n",
    "        update_query_variable = \"FIRST_NAME\"\n",
    "    elif int(user_choice) == 3:\n",
    "        update_query_variable = \"LAST_NAME\"\n",
    "    elif int(user_choice) == 4:\n",
    "        update_query_variable = \"MIDDLE_NAME\"\n",
    "    elif int(user_choice) == 5:\n",
    "        update_query_variable = \"CUST_EMAIL\"\n",
    "    elif int(user_choice) == 6:\n",
    "        update_query_variable = \"FULL_STREET_ADDRESS\"\n",
    "    elif int(user_choice) == 7:\n",
    "        update_query_variable = \"CUST_CITY\"\n",
    "    elif int(user_choice) == 8:\n",
    "        update_query_variable = \"CUST_STATE\"\n",
    "    elif int(user_choice) == 9:\n",
    "        update_query_variable = \"CUST_COUNTRY\"\n",
    "    elif int(user_choice) == 10:\n",
    "        update_query_variable = \"CUST_ZIP\"\n",
    "    elif int(user_choice) == 11:\n",
    "        print(\"Exiting\")\n",
    "        exit\n",
    "\n",
    "\n",
    "user_update_input = input(f\"Enter {update_query_variable} value to update: \")\n",
    "db_connectivity(update_query_variable,user_update_input,credit_card_no_input,formatted_phone_input)"
   ]
  },
  {
   "cell_type": "code",
   "execution_count": 32,
   "metadata": {},
   "outputs": [
    {
     "name": "stdout",
     "output_type": "stream",
     "text": [
      "SELECT CUST_CC_NO, ROUND(SUM(TRANSACTION_VALUE),2) as Monthly_Bill FROM creditview                   WHERE MONTH(to_date(TIMEID, 'yyyyMMdd')) = 08 AND                   YEAR(to_date(TIMEID, 'yyyyMMdd')) = 2018 and CUST_CC_NO=4210653312478046                   GROUP BY CUST_CC_NO\n",
      "+----------------+------------+\n",
      "|      CUST_CC_NO|Monthly_Bill|\n",
      "+----------------+------------+\n",
      "|4210653312478046|      475.54|\n",
      "+----------------+------------+\n",
      "\n"
     ]
    }
   ],
   "source": [
    "#generate a monthly bill for a credit card number for a given month and year.\n",
    "\n",
    "credit_card_input = input(\"Enter credit card number: \")\n",
    "month_input = input(\"Enter month:\" )\n",
    "year_input = input(\"Enter year: \")\n",
    "\n",
    "qurey = query = f\"SELECT CUST_CC_NO, ROUND(SUM(TRANSACTION_VALUE),2) as Monthly_Bill FROM creditview \\\n",
    "                  WHERE MONTH(to_date(TIMEID, 'yyyyMMdd')) = {month_input} AND \\\n",
    "                  YEAR(to_date(TIMEID, 'yyyyMMdd')) = {year_input} and CUST_CC_NO={credit_card_input} \\\n",
    "                  GROUP BY CUST_CC_NO\"\n",
    "print(query)\n",
    "spark.sql(query).show()"
   ]
  },
  {
   "cell_type": "code",
   "execution_count": 34,
   "metadata": {},
   "outputs": [
    {
     "name": "stdout",
     "output_type": "stream",
     "text": [
      "SELECT TRANSACTION_ID,CUST_CC_NO,BRANCH_CODE,TRANSACTION_TYPE,TRANSACTION_VALUE,TIMEID FROM creditview         WHERE to_date(TIMEID, 'yyyyMMdd') >= '2018-04-02'         AND to_date(TIMEID, 'yyyyMMdd') <= '2018-08-08'         AND cust_cc_no = 4210653315516879 ORDER BY         YEAR(to_date(TIMEID, 'yyyyMMdd')) DESC, MONTH(to_date(TIMEID, 'yyyyMMdd')) DESC,         DAY(to_date(TIMEID, 'yyyyMMdd')) DESC\n",
      "+--------------+----------------+-----------+----------------+-----------------+--------+\n",
      "|TRANSACTION_ID|      CUST_CC_NO|BRANCH_CODE|TRANSACTION_TYPE|TRANSACTION_VALUE|  TIMEID|\n",
      "+--------------+----------------+-----------+----------------+-----------------+--------+\n",
      "|           164|4210653315516879|        119|         Grocery|            42.15|20180802|\n",
      "|           156|4210653315516879|        170|            Test|            90.94|20180626|\n",
      "|           168|4210653315516879|         22|           Bills|             9.19|20180616|\n",
      "|           152|4210653315516879|         78|      Healthcare|            63.69|20180611|\n",
      "|           158|4210653315516879|         10|            Test|            71.32|20180508|\n",
      "|           159|4210653315516879|         79|            Test|            83.39|20180425|\n",
      "|           162|4210653315516879|         11|      Healthcare|             3.27|20180421|\n",
      "|           155|4210653315516879|        139|           Bills|            28.39|20180417|\n",
      "|           157|4210653315516879|        111|   Entertainment|            70.18|20180406|\n",
      "+--------------+----------------+-----------+----------------+-----------------+--------+\n",
      "\n"
     ]
    }
   ],
   "source": [
    "#display the transactions made by a customer between two dates. Order by year, month, and day in descending order.\n",
    "credit_card_input = input(\"Enter credit card number: \")\n",
    "start_date_input = input(\"Enter start date: \")\n",
    "end_date_input = input(\"Enter End Date: \")\n",
    "\n",
    "query = f\"SELECT TRANSACTION_ID,CUST_CC_NO,BRANCH_CODE,TRANSACTION_TYPE,TRANSACTION_VALUE,TIMEID FROM creditview \\\n",
    "        WHERE to_date(TIMEID, 'yyyyMMdd') >= '{start_date_input}' \\\n",
    "        AND to_date(TIMEID, 'yyyyMMdd') <= '{end_date_input}' \\\n",
    "        AND cust_cc_no = {credit_card_input} ORDER BY \\\n",
    "        YEAR(to_date(TIMEID, 'yyyyMMdd')) DESC, MONTH(to_date(TIMEID, 'yyyyMMdd')) DESC, \\\n",
    "        DAY(to_date(TIMEID, 'yyyyMMdd')) DESC\"\n",
    "query1=f\"select * from creditview\"\n",
    "print(query)\n",
    "spark.sql(query).show()\n"
   ]
  },
  {
   "attachments": {},
   "cell_type": "markdown",
   "metadata": {},
   "source": [
    "3 - Functional Requirements - Data analysis and Visualization"
   ]
  },
  {
   "cell_type": "code",
   "execution_count": 5,
   "metadata": {},
   "outputs": [],
   "source": [
    "def load_to_pandas(branch_df,credit_df,customer_df):\n",
    "    branch_df_pandas = branch_df.toPandas()\n",
    "    credit_df_pandas = credit_df.toPandas()\n",
    "    customer_df_pandas = customer_df.toPandas()\n",
    "    return (branch_df_pandas,credit_df_pandas,customer_df_pandas)\n"
   ]
  },
  {
   "cell_type": "code",
   "execution_count": 6,
   "metadata": {},
   "outputs": [
    {
     "name": "stderr",
     "output_type": "stream",
     "text": [
      "C:\\Spark\\python\\pyspark\\sql\\pandas\\conversion.py:194: FutureWarning: Passing unit-less datetime64 dtype to .astype is deprecated and will raise in a future version. Pass 'datetime64[ns]' instead\n",
      "  series = series.astype(t, copy=False)\n",
      "C:\\Spark\\python\\pyspark\\sql\\pandas\\conversion.py:194: FutureWarning: Passing unit-less datetime64 dtype to .astype is deprecated and will raise in a future version. Pass 'datetime64[ns]' instead\n",
      "  series = series.astype(t, copy=False)\n"
     ]
    }
   ],
   "source": [
    "#plot which transaction type has a high rate of transactions.\n",
    "branch_df,credit_df,customer_df=load_from_db()\n",
    "branch_df_pandas,credit_df_pandas,customer_df_pandas=load_to_pandas(branch_df,credit_df,customer_df)\n"
   ]
  },
  {
   "cell_type": "code",
   "execution_count": 20,
   "metadata": {},
   "outputs": [
    {
     "data": {
      "image/png": "[encoded data removed]",
      "text/plain": [
       "<Figure size 600x400 with 1 Axes>"
      ]
     },
     "metadata": {},
     "output_type": "display_data"
    }
   ],
   "source": [
    "tr_rate_df = credit_df_pandas[[\"TRANSACTION_TYPE\",\"TRANSACTION_VALUE\"]]\n",
    "tr_rate_df = tr_rate_df.groupby(['TRANSACTION_TYPE']).sum()\n",
    "tr_rate_df.reset_index(inplace = True)\n",
    "tr_rate_df.head()\n",
    "tr_rate_df.plot(x = \"TRANSACTION_TYPE\", y=\"TRANSACTION_VALUE\", kind = \"bar\",color='SteelBlue',figsize=(6, 4))\n",
    "plt.xlabel(\"Transaction Type\")\n",
    "plt.ylabel(\"Transaction Value\")\n",
    "plt.title(\"Transaction Type with high Transaction Rate\")\n",
    "#plt.grid(linestyle='dashed', axis=\"both\")\n",
    "plt.yticks(list(range(0,500000,50000)))\n",
    "#plt.yticks([100000,200000,300000,400000,500000])\n",
    "#plt.xticks(np.arange(1,13,2))\n",
    "plt.show()\n"
   ]
  },
  {
   "attachments": {},
   "cell_type": "markdown",
   "metadata": {},
   "source": [
    "plot which state has a high number of customers."
   ]
  },
  {
   "cell_type": "code",
   "execution_count": 21,
   "metadata": {},
   "outputs": [
    {
     "data": {
      "image/png": "[encoded data removed]",
      "text/plain": [
       "<Figure size 600x400 with 1 Axes>"
      ]
     },
     "metadata": {},
     "output_type": "display_data"
    }
   ],
   "source": [
    "st_cust_df = customer_df_pandas[[\"CUST_STATE\",\"CREDIT_CARD_NO\"]]\n",
    "st_cust_df = st_cust_df.groupby(['CUST_STATE']).count()\n",
    "st_cust_df.reset_index(inplace = True)\n",
    "st_cust_df.head()\n",
    "st_cust_df.plot(x = \"CUST_STATE\", y=\"CREDIT_CARD_NO\", kind = \"bar\",color='SteelBlue',figsize=(6, 4))\n",
    "plt.xlabel(\"State\")\n",
    "plt.ylabel(\"Customers\")\n",
    "plt.title(\"State with high number of customers\")\n",
    "#plt.grid(linestyle='dashed', axis=\"both\")\n",
    "#plt.yticks(list(range(0,500000,50000)))\n",
    "#plt.yticks([100000,200000,300000,400000,500000])\n",
    "#plt.xticks(np.arange(1,13,2))\n",
    "plt.show()\n"
   ]
  },
  {
   "attachments": {},
   "cell_type": "markdown",
   "metadata": {},
   "source": [
    "sum of all transactions for the top 10 customers,and which customer has the highest transaction amount."
   ]
  },
  {
   "cell_type": "code",
   "execution_count": null,
   "metadata": {},
   "outputs": [],
   "source": []
  }
 ],
 "metadata": {
  "kernelspec": {
   "display_name": "capenv",
   "language": "python",
   "name": "python3"
  },
  "language_info": {
   "codemirror_mode": {
    "name": "ipython",
    "version": 3
   },
   "file_extension": ".py",
   "mimetype": "text/x-python",
   "name": "python",
   "nbconvert_exporter": "python",
   "pygments_lexer": "ipython3",
   "version": "3.10.9"
  },
  "orig_nbformat": 4,
  "vscode": {
   "interpreter": {
    "hash": "8790e8e91c4d49a5947989d93573f3efc5eb67ec4ee4d6bf5f049f862474c1fd"
   }
  }
 },
 "nbformat": 4,
 "nbformat_minor": 2
}
